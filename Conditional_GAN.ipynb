{
  "cells": [
    {
      "cell_type": "markdown",
      "metadata": {
        "id": "on3JpS00dxWv"
      },
      "source": [
        "# DCGAN\n",
        "In this notebook, I have implemented a conditional DCGAN. Before training my GAN model, I have trained an autoencoder to extract features of input images. After that, I used a convolutional network to generate image from input features and noise. For the discriminator, I have used convolutional networks too."
      ]
    },
    {
      "cell_type": "markdown",
      "metadata": {
        "id": "KbAlALZI42rj"
      },
      "source": [
        "# Load the dataset\n",
        "\n",
        "Load the MNIST dataset bellow. You can use either `torchvision.datasets.MNIST` or `sklearn.datasets.fetch_openml()` or any other way to load the dataset."
      ]
    },
    {
      "cell_type": "code",
      "source": [
        "import numpy as np\n",
        "from torchvision import transforms, datasets\n",
        "import matplotlib.pyplot as plt\n",
        "import torch\n",
        "from torch import nn\n",
        "from torch.nn import functional as F"
      ],
      "metadata": {
        "id": "bv8Yw9fmyhkU"
      },
      "execution_count": 1,
      "outputs": []
    },
    {
      "cell_type": "code",
      "source": [
        "transform = transforms.Compose([\n",
        "    transforms.RandomHorizontalFlip(p=0.4),\n",
        "    transforms.RandomRotation(degrees=(0, 20)),\n",
        "    transforms.ToTensor()])"
      ],
      "metadata": {
        "id": "q_OPXpW7bnOR"
      },
      "execution_count": 2,
      "outputs": []
    },
    {
      "cell_type": "code",
      "execution_count": 3,
      "metadata": {
        "id": "Vifxv9U919AY",
        "colab": {
          "base_uri": "https://localhost:8080/",
          "height": 431,
          "referenced_widgets": [
            "232b09c93dd14016bccbf9b291eb65aa",
            "bff50bcd45814a1da47379db7d778b0b",
            "3450a791453c4c738584bf7a883e5fc9",
            "a938ade0817041be93fc165008f27a44",
            "2e4eaeb42c844034ba7f066c5a4ba751",
            "3d08193891154016a1e38b7d6ec52e4a",
            "59be368f8a9442e0b4b6b682cecc6209",
            "4609b90804a64ddea0d132fd22c14f99",
            "c894be40d6e14cf396b7b947447478d4",
            "d862b9a999254cf6b1e08ffd26fee877",
            "772d5b2b5b184a73b3f9fba836cb8a63",
            "ea2ffad371134559a64382cc4a0c4739",
            "d8e6fad35cb94959bfd67ae7d1273da6",
            "c9dfd40a6b374944bb2e49241dba21d6",
            "ffefda84522c4c059a4a82d6950623ae",
            "21e75ccf51f344e5ac146b033cfb82c1",
            "275306935fd94c3d97fb79c6f24919da",
            "d0a23901841f45968cad84850df40839",
            "0be62b57036d4c68bd2532f4fa41ed1f",
            "a48157bd4f414ca9be338bac54baad79",
            "3d24038962d4482d8e03d303589ac412",
            "8a1f834567794f48963c2fc968d607c1",
            "d568ceac23c943098af69e47fa609884",
            "cfe75e8d4ae44a83a877f04a24903c62",
            "7a3c996a76044e15b56f501b792a119f",
            "993483e36451460fb9cd9b5b239eac14",
            "9f3b30df94dd49b289b92f30c781ef05",
            "be87c525931a491aa47a527708f07d1f",
            "8a592d56bd2943919cddfea14faa19db",
            "d9ab086fa0d9416e8defbdbcfc2fad5b",
            "bfbd9bedb98c4c2c92913e6e7ab50a00",
            "d860b3a6c8f0463e997879f627e3ed34",
            "f3482c3b34c94f41a92fb2341164e53c",
            "77b09116bffd4bfa96c2529c5b92fe87",
            "8d24186383e0442889e061e0862811e6",
            "a7b7eed0287842c79751376fb5f7f329",
            "7e875012455c40259d12541b5076f694",
            "1bbd22e36b80419c81f11d8871076d4c",
            "37421431e95345939c2e7c2fa3421a78",
            "4b3a682558a24c6bab734e5f5f6316a9",
            "c783d978627f407fb8f26abe7b93dde7",
            "f78601376f77470e8db4ecd8aa1720cc",
            "efe6245413bb4afca1cd3b7c7db692fe",
            "80ceede33286461fa4357f3be5b88aa6"
          ]
        },
        "outputId": "a86d170b-2cb3-4931-84b3-8f8965dda961"
      },
      "outputs": [
        {
          "output_type": "stream",
          "name": "stdout",
          "text": [
            "Downloading http://yann.lecun.com/exdb/mnist/train-images-idx3-ubyte.gz\n",
            "Downloading http://yann.lecun.com/exdb/mnist/train-images-idx3-ubyte.gz to data/MNIST/raw/train-images-idx3-ubyte.gz\n"
          ]
        },
        {
          "output_type": "display_data",
          "data": {
            "text/plain": [
              "  0%|          | 0/9912422 [00:00<?, ?it/s]"
            ],
            "application/vnd.jupyter.widget-view+json": {
              "version_major": 2,
              "version_minor": 0,
              "model_id": "232b09c93dd14016bccbf9b291eb65aa"
            }
          },
          "metadata": {}
        },
        {
          "output_type": "stream",
          "name": "stdout",
          "text": [
            "Extracting data/MNIST/raw/train-images-idx3-ubyte.gz to data/MNIST/raw\n",
            "\n",
            "Downloading http://yann.lecun.com/exdb/mnist/train-labels-idx1-ubyte.gz\n",
            "Downloading http://yann.lecun.com/exdb/mnist/train-labels-idx1-ubyte.gz to data/MNIST/raw/train-labels-idx1-ubyte.gz\n"
          ]
        },
        {
          "output_type": "display_data",
          "data": {
            "text/plain": [
              "  0%|          | 0/28881 [00:00<?, ?it/s]"
            ],
            "application/vnd.jupyter.widget-view+json": {
              "version_major": 2,
              "version_minor": 0,
              "model_id": "ea2ffad371134559a64382cc4a0c4739"
            }
          },
          "metadata": {}
        },
        {
          "output_type": "stream",
          "name": "stdout",
          "text": [
            "Extracting data/MNIST/raw/train-labels-idx1-ubyte.gz to data/MNIST/raw\n",
            "\n",
            "Downloading http://yann.lecun.com/exdb/mnist/t10k-images-idx3-ubyte.gz\n",
            "Downloading http://yann.lecun.com/exdb/mnist/t10k-images-idx3-ubyte.gz to data/MNIST/raw/t10k-images-idx3-ubyte.gz\n"
          ]
        },
        {
          "output_type": "display_data",
          "data": {
            "text/plain": [
              "  0%|          | 0/1648877 [00:00<?, ?it/s]"
            ],
            "application/vnd.jupyter.widget-view+json": {
              "version_major": 2,
              "version_minor": 0,
              "model_id": "d568ceac23c943098af69e47fa609884"
            }
          },
          "metadata": {}
        },
        {
          "output_type": "stream",
          "name": "stdout",
          "text": [
            "Extracting data/MNIST/raw/t10k-images-idx3-ubyte.gz to data/MNIST/raw\n",
            "\n",
            "Downloading http://yann.lecun.com/exdb/mnist/t10k-labels-idx1-ubyte.gz\n",
            "Downloading http://yann.lecun.com/exdb/mnist/t10k-labels-idx1-ubyte.gz to data/MNIST/raw/t10k-labels-idx1-ubyte.gz\n"
          ]
        },
        {
          "output_type": "display_data",
          "data": {
            "text/plain": [
              "  0%|          | 0/4542 [00:00<?, ?it/s]"
            ],
            "application/vnd.jupyter.widget-view+json": {
              "version_major": 2,
              "version_minor": 0,
              "model_id": "77b09116bffd4bfa96c2529c5b92fe87"
            }
          },
          "metadata": {}
        },
        {
          "output_type": "stream",
          "name": "stdout",
          "text": [
            "Extracting data/MNIST/raw/t10k-labels-idx1-ubyte.gz to data/MNIST/raw\n",
            "\n"
          ]
        }
      ],
      "source": [
        "train_set = datasets.MNIST(root='data', train=True, download=True, \n",
        "                           transform=transform)\n",
        "\n",
        "test_set = datasets.MNIST(root='data', train=False, download=True, \n",
        "                          transform=transforms.ToTensor())"
      ]
    },
    {
      "cell_type": "code",
      "source": [
        "device = torch.device('cuda' if torch.cuda.is_available() else 'cpu')\n",
        "device"
      ],
      "metadata": {
        "colab": {
          "base_uri": "https://localhost:8080/"
        },
        "id": "mhxCA92EM8Cg",
        "outputId": "4730eb35-7ea1-4931-ee59-de418e09d85a"
      },
      "execution_count": 4,
      "outputs": [
        {
          "output_type": "execute_result",
          "data": {
            "text/plain": [
              "device(type='cuda')"
            ]
          },
          "metadata": {},
          "execution_count": 4
        }
      ]
    },
    {
      "cell_type": "markdown",
      "metadata": {
        "id": "6QS8RAKf5Am9"
      },
      "source": [
        "# Design model\n",
        "\n",
        "Our GAN is supposed to construct the right half of an image given the left half of it and a noise. The general structure of this GAN is shown below.\n",
        "\n",
        "![](https://github.com/AIMed-Team/edu-content/blob/master/notebooks/learning-tasks/6_cgan/images/CGAN.jpeg?raw=1)"
      ]
    },
    {
      "cell_type": "code",
      "source": [
        "class AutoEncoder(nn.Module):\n",
        "    def __init__(self):\n",
        "        super().__init__()\n",
        "\n",
        "        self.encoder = nn.Sequential(\n",
        "            nn.Conv2d(1, 8, 3),                       \n",
        "            nn.ReLU(),\n",
        "            nn.BatchNorm2d(8),\n",
        "            nn.Conv2d(8, 32, 3),                    \n",
        "            nn.ReLU(),\n",
        "            nn.BatchNorm2d(32),\n",
        "            nn.MaxPool2d(3, stride=2, padding=1),    \n",
        "            nn.Dropout(p=0.4),\n",
        "            nn.Conv2d(32, 128, 3, padding=1),           \n",
        "            nn.ReLU(),\n",
        "            nn.BatchNorm2d(128),\n",
        "            nn.Conv2d(128, 128, 3, padding=1),  \n",
        "            nn.ReLU(),\n",
        "            nn.BatchNorm2d(128),\n",
        "            nn.MaxPool2d(3, stride=2, padding=1),\n",
        "            nn.Dropout(p=0.4),\n",
        "            nn.Conv2d(128, 256, 3, padding=1),    \n",
        "            nn.ReLU(),\n",
        "            nn.BatchNorm2d(256),\n",
        "            nn.Conv2d(256, 256, 3, padding=1),\n",
        "            nn.ReLU(),\n",
        "            nn.BatchNorm2d(256),\n",
        "            nn.AvgPool2d(3, stride=2, padding=1), \n",
        "            nn.Dropout(p=0.4)\n",
        "        )\n",
        "\n",
        "        self.decoder = nn.Sequential(\n",
        "            nn.ConvTranspose2d(256, 128, 3, stride=2),  \n",
        "            nn.ReLU(),\n",
        "            nn.BatchNorm2d(128),\n",
        "            nn.ConvTranspose2d(128, 64, 3, stride=1),   \n",
        "            nn.ReLU(),\n",
        "            nn.BatchNorm2d(64),\n",
        "            nn.ConvTranspose2d(64, 16, 3, stride=1),   \n",
        "            nn.ReLU(),\n",
        "            nn.BatchNorm2d(16),\n",
        "            nn.ConvTranspose2d(16, 8, 3, stride=2),     \n",
        "            nn.ReLU(),\n",
        "            nn.ConvTranspose2d(8, 4, 4, stride=1),  \n",
        "            nn.ReLU(),\n",
        "            nn.ConvTranspose2d(4, 1, 3, stride=1),     \n",
        "            nn.Sigmoid()\n",
        "        )\n",
        "\n",
        "    def forward(self, images):\n",
        "        x = self.encoder(images)\n",
        "        y = self.decoder(x)\n",
        "        return y\n",
        "\n",
        "    def encode(self, images):\n",
        "        return self.encoder(images)"
      ],
      "metadata": {
        "id": "pdUkQvgMOD4J"
      },
      "execution_count": 5,
      "outputs": []
    },
    {
      "cell_type": "code",
      "execution_count": 6,
      "metadata": {
        "id": "yA5lgQhCjIBq"
      },
      "outputs": [],
      "source": [
        "class Generator(nn.Module):\n",
        "    def __init__(self, autoencoder, noise_len):\n",
        "        super().__init__()\n",
        "        self.autoencoder = autoencoder\n",
        "        self.noise_len = noise_len\n",
        "\n",
        "        self.layers = nn.Sequential(                                   \n",
        "            nn.ConvTranspose2d(256+self.noise_len, 128, 3, stride=1),              \n",
        "            nn.ReLU(),\n",
        "            nn.BatchNorm2d(128),\n",
        "            nn.ConvTranspose2d(128, 64, 3, stride=1),                      \n",
        "            nn.ReLU(),\n",
        "            nn.BatchNorm2d(64),\n",
        "            nn.ConvTranspose2d(64, 16, 3, stride=1),                       \n",
        "            nn.ReLU(),\n",
        "            nn.BatchNorm2d(16),\n",
        "            nn.ConvTranspose2d(16, 8, 3, stride=1),                       \n",
        "            nn.ReLU(),\n",
        "            nn.BatchNorm2d(8),\n",
        "            nn.ConvTranspose2d(8, 4, 3, stride=(2, 1), padding=(0, 1)),   \n",
        "            nn.ReLU(),\n",
        "            nn.BatchNorm2d(4),\n",
        "            nn.ConvTranspose2d(4, 2, 3, stride=1),                       \n",
        "            nn.ReLU(),\n",
        "            nn.BatchNorm2d(2),\n",
        "            nn.ConvTranspose2d(2, 1, (4, 3), stride=1),   \n",
        "            nn.Sigmoid()\n",
        "        )\n",
        "\n",
        "    def forward(self, noise, input):    \n",
        "        output = torch.cat((self.autoencoder.encode(input), noise), dim=1)        \n",
        "        output = self.layers(output)              \n",
        "        return output"
      ]
    },
    {
      "cell_type": "code",
      "source": [
        "class Discriminator(nn.Module):\n",
        "    def __init__(self):\n",
        "        super().__init__()\n",
        "        self.conv = nn.Sequential(                          \n",
        "            nn.Conv2d(1, 8, 3, padding=1),                  \n",
        "            nn.LeakyReLU(0.1),\n",
        "            nn.BatchNorm2d(8),\n",
        "            nn.MaxPool2d(3, stride=2, padding=1),          \n",
        "            nn.Dropout(p=0.4),\n",
        "            nn.Conv2d(8, 32, 3, padding=1),               \n",
        "            nn.LeakyReLU(0.1),\n",
        "            nn.BatchNorm2d(32),\n",
        "            nn.MaxPool2d(3, stride=2, padding=1),    \n",
        "            nn.Dropout(p=0.4),\n",
        "            nn.Conv2d(32, 64, 3, padding=1),         \n",
        "            nn.LeakyReLU(0.1),\n",
        "            nn.BatchNorm2d(64),\n",
        "            nn.MaxPool2d(3, stride=2, padding=1),           \n",
        "            nn.Dropout(p=0.4),\n",
        "            nn.Conv2d(64, 128, 3, padding=1),     \n",
        "            nn.LeakyReLU(0.1),\n",
        "            nn.BatchNorm2d(128),\n",
        "            nn.AvgPool2d(3, stride=2, padding=1),         \n",
        "            nn.Dropout(p=0.4),\n",
        "            nn.Flatten(),                                 \n",
        "            nn.Linear(512, 1),\n",
        "            nn.Sigmoid()           \n",
        "        )\n",
        "\n",
        "    def forward(self, images):\n",
        "        return self.conv(images)"
      ],
      "metadata": {
        "id": "1cLWveK_BFTu"
      },
      "execution_count": 7,
      "outputs": []
    },
    {
      "cell_type": "markdown",
      "source": [
        "# Train AutoEncoder"
      ],
      "metadata": {
        "id": "seuAqUqsYnpB"
      }
    },
    {
      "cell_type": "code",
      "source": [
        "batch_size = 32\n",
        "lr = 0.0001\n",
        "train_loader = torch.utils.data.DataLoader(train_set, batch_size=batch_size, shuffle=True)"
      ],
      "metadata": {
        "id": "l9XOfm7QYw1h"
      },
      "execution_count": 8,
      "outputs": []
    },
    {
      "cell_type": "code",
      "source": [
        "autoencoder = AutoEncoder().to(device)\n",
        "criterion = nn.MSELoss().to(device)\n",
        "optimizer = torch.optim.Adam(autoencoder.parameters(), lr=lr)\n",
        "\n",
        "losses = []\n",
        "best_loss = 1e9"
      ],
      "metadata": {
        "id": "LXc5wfm3YzKb"
      },
      "execution_count": 9,
      "outputs": []
    },
    {
      "cell_type": "code",
      "source": [
        "number_of_epochs = 10\n",
        "\n",
        "for epoch in range(number_of_epochs):\n",
        "    total_loss = 0\n",
        "    n = 0\n",
        "    for images, labels in train_loader:\n",
        "      optimizer.zero_grad()\n",
        "      images = images.to(device)\n",
        "      \n",
        "      batch_size = images.shape[0]\n",
        "      n += batch_size\n",
        "\n",
        "      loss = criterion(autoencoder(images), images)\n",
        "      total_loss += loss.item() * batch_size\n",
        "\n",
        "      loss.backward()\n",
        "      optimizer.step()\n",
        "\n",
        "    total_loss /= n\n",
        "    print('epoch ' + str(epoch) + \", loss: \" + str(total_loss))  \n",
        "    print()  \n",
        "    \n",
        "    losses.append(total_loss)\n",
        "\n",
        "    if total_loss < best_loss:\n",
        "        best_loss = total_loss\n",
        "        torch.save(autoencoder.state_dict(), 'autoencoder.pickle')\n"
      ],
      "metadata": {
        "colab": {
          "base_uri": "https://localhost:8080/"
        },
        "id": "9MNm4qh5ZMNo",
        "outputId": "e2e9e84d-f9d2-414d-824b-3338a8a526f9"
      },
      "execution_count": 10,
      "outputs": [
        {
          "output_type": "stream",
          "name": "stdout",
          "text": [
            "epoch 0, loss: 0.06156054207384586\n",
            "\n",
            "epoch 1, loss: 0.015274961219231288\n",
            "\n",
            "epoch 2, loss: 0.012436571067074935\n",
            "\n",
            "epoch 3, loss: 0.011175439914564291\n",
            "\n",
            "epoch 4, loss: 0.010347881715993086\n",
            "\n",
            "epoch 5, loss: 0.009758343318849802\n",
            "\n",
            "epoch 6, loss: 0.009307901464899382\n",
            "\n",
            "epoch 7, loss: 0.008963160124172767\n",
            "\n",
            "epoch 8, loss: 0.008661682965606451\n",
            "\n",
            "epoch 9, loss: 0.008415542931854725\n",
            "\n"
          ]
        }
      ]
    },
    {
      "cell_type": "code",
      "source": [
        "fig, axs = plt.subplots(6, 2, figsize=(4, 2 * 6))\n",
        "fig.tight_layout()\n",
        "indices = np.random.choice(range(len(test_set)), size=6)\n",
        "\n",
        "with torch.no_grad():\n",
        "    for i in range(6):\n",
        "        img, _ = test_set[indices[i]]\n",
        "        input = img.unsqueeze(0).to(device)\n",
        "        output = autoencoder(input)\n",
        "        axs[i, 0].imshow(transforms.ToPILImage()(input[0]))\n",
        "        axs[i, 1].imshow(transforms.ToPILImage()(output[0]))\n",
        "        axs[i, 0].set_title('Real')\n",
        "        axs[i, 1].set_title('Generated')\n",
        "\n",
        "plt.show()"
      ],
      "metadata": {
        "colab": {
          "base_uri": "https://localhost:8080/",
          "height": 866
        },
        "id": "bmM9eJjnfCFf",
        "outputId": "c1409782-e713-4871-ad05-8db774cc37d4"
      },
      "execution_count": 11,
      "outputs": [
        {
          "output_type": "display_data",
          "data": {
            "text/plain": [
              "<Figure size 288x864 with 12 Axes>"
            ],
            "image/png": "[encoded data removed]"
          },
          "metadata": {
            "needs_background": "light"
          }
        }
      ]
    },
    {
      "cell_type": "markdown",
      "metadata": {
        "id": "bn1JazTM5LUX"
      },
      "source": [
        "# Train GAN\n"
      ]
    },
    {
      "cell_type": "code",
      "execution_count": 12,
      "metadata": {
        "id": "_yapuF5-AwT7"
      },
      "outputs": [],
      "source": [
        "batch_size = 32\n",
        "lr = 0.0001\n",
        "noise_len = 100\n",
        "\n",
        "train_loader = torch.utils.data.DataLoader(train_set, batch_size=batch_size, shuffle=True)"
      ]
    },
    {
      "cell_type": "code",
      "source": [
        "auto_encoder = AutoEncoder()\n",
        "auto_encoder.load_state_dict(torch.load('autoencoder.pickle'))\n",
        "\n",
        "for param in auto_encoder.parameters():\n",
        "    param.requires_grad = False\n",
        "\n",
        "generator = Generator(auto_encoder, noise_len).to(device)\n",
        "generator_optimizer = torch.optim.Adam(generator.parameters(), lr=lr)\n",
        "\n",
        "discriminator = Discriminator().to(device)\n",
        "discriminator_optimizer = torch.optim.Adam(discriminator.parameters(), lr=lr)\n",
        "\n",
        "criterion = nn.BCELoss().to(device)"
      ],
      "metadata": {
        "id": "bLzCRKyxhW_t"
      },
      "execution_count": 13,
      "outputs": []
    },
    {
      "cell_type": "code",
      "source": [
        "generator_l = []\n",
        "discriminator_l = []\n",
        "best_loss = 1e9\n",
        "\n",
        "number_of_epochs = 25\n",
        "\n",
        "for epoch in range(1, number_of_epochs + 1):\n",
        "    generator_total_loss = 0\n",
        "    discriminator_total_loss = 0\n",
        "    generator_num_samples = 0\n",
        "    discriminator_num_samples = 0\n",
        "    for i, (images, _) in enumerate(train_loader):\n",
        "        images = images.to(device)\n",
        "        batch_size = images.shape[0]\n",
        "        valid = torch.full((batch_size, 1), 1.0).to(device)\n",
        "        half_images = images[..., :14]\n",
        "        y = torch.randn([batch_size, noise_len, 3, 2]).to(device)\n",
        "\n",
        "        if i % 5 != 0:\n",
        "            generator_num_samples += batch_size\n",
        "            generator.train()\n",
        "            generator_optimizer.zero_grad()\n",
        "\n",
        "            generator_output = generator(y, half_images)\n",
        "            generator_images = torch.cat((half_images, generator_output), dim=-1)\n",
        "            validation = discriminator(generator_images)\n",
        "            generator_loss = criterion(validation, valid)\n",
        "            generator_total_loss += generator_loss.item() * batch_size\n",
        "            generator_loss.backward()\n",
        "            generator_optimizer.step()\n",
        "\n",
        "        else:\n",
        "            discriminator_num_samples += batch_size\n",
        "            discriminator.train()\n",
        "            discriminator_optimizer.zero_grad()\n",
        "            generator_images = None\n",
        "            with torch.no_grad():\n",
        "                generator_output = generator(y, half_images)\n",
        "                generator_images = torch.cat((half_images, generator_output),\n",
        "                dim=-1)\n",
        "\n",
        "            discriminator_input = torch.cat((images, generator_images.detach()),\n",
        "                                            dim=0)\n",
        "            discriminator_label = torch.cat((valid, 1-valid), dim=0)\n",
        "            discriminator_loss = criterion(discriminator(discriminator_input), \n",
        "                                           discriminator_label)\n",
        "            discriminator_total_loss += discriminator_loss.item() * 2 * batch_size\n",
        "            discriminator_loss.backward()\n",
        "            discriminator_optimizer.step()\n",
        "\n",
        "    try:\n",
        "        print('epoch ' + str(epoch) + \", generator loss: \" + \n",
        "              str(generator_total_loss / generator_num_samples) +\n",
        "              ', discriminator loss: ' +\n",
        "              str(discriminator_total_loss / (2 * discriminator_num_samples)))  \n",
        "        print()  \n",
        "    except:\n",
        "        pass\n",
        "\n",
        "\n",
        "    generator_total_loss /= generator_num_samples\n",
        "    discriminator_total_loss /= 2 * discriminator_num_samples\n",
        "    generator_l.append(generator_total_loss)\n",
        "    discriminator_l.append(discriminator_total_loss)\n",
        "\n",
        "    if generator_total_loss < best_loss:\n",
        "        best_loss = generator_total_loss\n",
        "        torch.save(generator.state_dict(), 'generator.pickle')\n",
        "        torch.save(discriminator.state_dict(), 'discriminator.pickle')"
      ],
      "metadata": {
        "colab": {
          "base_uri": "https://localhost:8080/"
        },
        "id": "gD6Ujq0MIC0E",
        "outputId": "0d32d281-4917-42e6-9c71-667274dd9fb3"
      },
      "execution_count": 14,
      "outputs": [
        {
          "output_type": "stream",
          "name": "stdout",
          "text": [
            "epoch 1, generator loss: 1.0983340709209441, discriminator loss: 0.11432932954281569\n",
            "\n",
            "epoch 2, generator loss: 1.4843224309682845, discriminator loss: 0.1187570056244731\n",
            "\n",
            "epoch 3, generator loss: 1.402161164164543, discriminator loss: 0.21714885675907136\n",
            "\n",
            "epoch 4, generator loss: 1.1356509211262067, discriminator loss: 0.39898615185419717\n",
            "\n",
            "epoch 5, generator loss: 1.0888342321316402, discriminator loss: 0.2992564676006635\n",
            "\n",
            "epoch 6, generator loss: 1.1123444191614786, discriminator loss: 0.35354820064703624\n",
            "\n",
            "epoch 7, generator loss: 0.9745214416583379, discriminator loss: 0.4600032421350479\n",
            "\n",
            "epoch 8, generator loss: 1.1613224603732426, discriminator loss: 0.2571448109944661\n",
            "\n",
            "epoch 9, generator loss: 1.0978962121407192, discriminator loss: 0.3027930583357811\n",
            "\n",
            "epoch 10, generator loss: 0.9422137970924378, discriminator loss: 0.3979867664972941\n",
            "\n",
            "epoch 11, generator loss: 1.0221879089275996, discriminator loss: 0.3564585389693578\n",
            "\n",
            "epoch 12, generator loss: 1.0136631036599477, discriminator loss: 0.38426583099365236\n",
            "\n",
            "epoch 13, generator loss: 0.9956105374097824, discriminator loss: 0.37814668130874635\n",
            "\n",
            "epoch 14, generator loss: 0.9860962507724762, discriminator loss: 0.435003896077474\n",
            "\n",
            "epoch 15, generator loss: 0.9470612719456355, discriminator loss: 0.42903008476893106\n",
            "\n",
            "epoch 16, generator loss: 0.9586555811961492, discriminator loss: 0.4472278528213501\n",
            "\n",
            "epoch 17, generator loss: 0.9987286355495453, discriminator loss: 0.4602234797080358\n",
            "\n",
            "epoch 18, generator loss: 1.0146847421328227, discriminator loss: 0.41005136919021606\n",
            "\n",
            "epoch 19, generator loss: 1.042980552395185, discriminator loss: 0.37577759142716727\n",
            "\n",
            "epoch 20, generator loss: 1.0539012219905852, discriminator loss: 0.3486081155538559\n",
            "\n",
            "epoch 21, generator loss: 1.0689261416594187, discriminator loss: 0.3886474974950155\n",
            "\n",
            "epoch 22, generator loss: 1.0268078679243724, discriminator loss: 0.4028976209958394\n",
            "\n",
            "epoch 23, generator loss: 1.0644374768733977, discriminator loss: 0.4011542117595673\n",
            "\n",
            "epoch 24, generator loss: 1.0368709089358648, discriminator loss: 0.3879032781124115\n",
            "\n",
            "epoch 25, generator loss: 1.0284589992761612, discriminator loss: 0.3310763215223948\n",
            "\n"
          ]
        }
      ]
    },
    {
      "cell_type": "markdown",
      "metadata": {
        "id": "CreskZKtiRFv"
      },
      "source": [
        "# Plot Generator/Discriminator losses"
      ]
    },
    {
      "cell_type": "code",
      "source": [
        "fig, ax = plt.subplots(1, 1)\n",
        "\n",
        "ax.plot(generator_l, label='generator')\n",
        "ax.plot(discriminator_l, label='discriminator')\n",
        "ax.set_title('Loss')\n",
        "\n",
        "plt.legend()\n",
        "plt.show()"
      ],
      "metadata": {
        "colab": {
          "base_uri": "https://localhost:8080/",
          "height": 281
        },
        "id": "oUDrGSRgnqK2",
        "outputId": "85ac36fa-b460-487f-b061-25368b5728e7"
      },
      "execution_count": 15,
      "outputs": [
        {
          "output_type": "display_data",
          "data": {
            "text/plain": [
              "<Figure size 432x288 with 1 Axes>"
            ],
            "image/png": "[encoded data removed]"
          },
          "metadata": {
            "needs_background": "light"
          }
        }
      ]
    },
    {
      "cell_type": "markdown",
      "metadata": {
        "id": "Y2Ohbv9AiJbp"
      },
      "source": [
        "# Draw examples"
      ]
    },
    {
      "cell_type": "code",
      "source": [
        "row_num = 3\n",
        "col_num = 3\n",
        "n = row_num * col_num\n",
        "indices = np.random.choice(range(len(test_set)), size=n)\n",
        "transform = transforms.ToPILImage()\n",
        "\n",
        "fig, axs = plt.subplots(row_num, 2 * col_num, figsize=(2 * 2 * col_num,\n",
        "                                                       2 * row_num))\n",
        "fig.tight_layout()\n",
        "\n",
        "with torch.no_grad():\n",
        "    for k in range(n):\n",
        "        img, label = test_set[indices[k]]\n",
        "\n",
        "        half_image = img[..., :14].unsqueeze(0).to(device)\n",
        "\n",
        "        output = generator(torch.randn([1, noise_len, 3, 2]).to(device),\n",
        "                           half_image)\n",
        "        generated_output = torch.cat((half_image, output), dim=-1)\n",
        "\n",
        "        i = k // col_num\n",
        "        j = 2 * (k % col_num)\n",
        "        axs[i, j].imshow(transform(img[0]))\n",
        "        axs[i, j+1].imshow(transform(generated_output[0]))\n",
        "        axs[i, j].set_title('Real')\n",
        "        axs[i, j+1].set_title('Generated')\n",
        "\n",
        "plt.show()"
      ],
      "metadata": {
        "colab": {
          "base_uri": "https://localhost:8080/",
          "height": 439
        },
        "id": "s5VMu7BVBgDo",
        "outputId": "a67cd890-c569-4d40-ad08-ade00bcf925f"
      },
      "execution_count": 19,
      "outputs": [
        {
          "output_type": "display_data",
          "data": {
            "text/plain": [
              "<Figure size 864x432 with 18 Axes>"
            ],
            "image/png": "[encoded data removed]"
          },
          "metadata": {
            "needs_background": "light"
          }
        }
      ]
    },
    {
      "cell_type": "code",
      "source": [],
      "metadata": {
        "id": "s8lggj-rtpwQ"
      },
      "execution_count": null,
      "outputs": []
    }
  ],
  "metadata": {
    "colab": {
      "collapsed_sections": [],
      "provenance": [],
      "machine_shape": "hm"
    },
    "kernelspec": {
      "display_name": "Python 3",
      "name": "python3"
    },
    "language_info": {
      "name": "python"
    },
    "gpuClass": "standard",
    "accelerator": "GPU",
    "widgets": {
      "application/vnd.jupyter.widget-state+json": {
        "232b09c93dd14016bccbf9b291eb65aa": {
          "model_module": "@jupyter-widgets/controls",
          "model_name": "HBoxModel",
          "model_module_version": "1.5.0",
          "state": {
            "_dom_classes": [],
            "_model_module": "@jupyter-widgets/controls",
            "_model_module_version": "1.5.0",
            "_model_name": "HBoxModel",
            "_view_count": null,
            "_view_module": "@jupyter-widgets/controls",
            "_view_module_version": "1.5.0",
            "_view_name": "HBoxView",
            "box_style": "",
            "children": [
              "IPY_MODEL_bff50bcd45814a1da47379db7d778b0b",
              "IPY_MODEL_3450a791453c4c738584bf7a883e5fc9",
              "IPY_MODEL_a938ade0817041be93fc165008f27a44"
            ],
            "layout": "IPY_MODEL_2e4eaeb42c844034ba7f066c5a4ba751"
          }
        },
        "bff50bcd45814a1da47379db7d778b0b": {
          "model_module": "@jupyter-widgets/controls",
          "model_name": "HTMLModel",
          "model_module_version": "1.5.0",
          "state": {
            "_dom_classes": [],
            "_model_module": "@jupyter-widgets/controls",
            "_model_module_version": "1.5.0",
            "_model_name": "HTMLModel",
            "_view_count": null,
            "_view_module": "@jupyter-widgets/controls",
            "_view_module_version": "1.5.0",
            "_view_name": "HTMLView",
            "description": "",
            "description_tooltip": null,
            "layout": "IPY_MODEL_3d08193891154016a1e38b7d6ec52e4a",
            "placeholder": "​",
            "style": "IPY_MODEL_59be368f8a9442e0b4b6b682cecc6209",
            "value": "100%"
          }
        },
        "3450a791453c4c738584bf7a883e5fc9": {
          "model_module": "@jupyter-widgets/controls",
          "model_name": "FloatProgressModel",
          "model_module_version": "1.5.0",
          "state": {
            "_dom_classes": [],
            "_model_module": "@jupyter-widgets/controls",
            "_model_module_version": "1.5.0",
            "_model_name": "FloatProgressModel",
            "_view_count": null,
            "_view_module": "@jupyter-widgets/controls",
            "_view_module_version": "1.5.0",
            "_view_name": "ProgressView",
            "bar_style": "success",
            "description": "",
            "description_tooltip": null,
            "layout": "IPY_MODEL_4609b90804a64ddea0d132fd22c14f99",
            "max": 9912422,
            "min": 0,
            "orientation": "horizontal",
            "style": "IPY_MODEL_c894be40d6e14cf396b7b947447478d4",
            "value": 9912422
          }
        },
        "a938ade0817041be93fc165008f27a44": {
          "model_module": "@jupyter-widgets/controls",
          "model_name": "HTMLModel",
          "model_module_version": "1.5.0",
          "state": {
            "_dom_classes": [],
            "_model_module": "@jupyter-widgets/controls",
            "_model_module_version": "1.5.0",
            "_model_name": "HTMLModel",
            "_view_count": null,
            "_view_module": "@jupyter-widgets/controls",
            "_view_module_version": "1.5.0",
            "_view_name": "HTMLView",
            "description": "",
            "description_tooltip": null,
            "layout": "IPY_MODEL_d862b9a999254cf6b1e08ffd26fee877",
            "placeholder": "​",
            "style": "IPY_MODEL_772d5b2b5b184a73b3f9fba836cb8a63",
            "value": " 9912422/9912422 [00:00&lt;00:00, 21248098.95it/s]"
          }
        },
        "2e4eaeb42c844034ba7f066c5a4ba751": {
          "model_module": "@jupyter-widgets/base",
          "model_name": "LayoutModel",
          "model_module_version": "1.2.0",
          "state": {
            "_model_module": "@jupyter-widgets/base",
            "_model_module_version": "1.2.0",
            "_model_name": "LayoutModel",
            "_view_count": null,
            "_view_module": "@jupyter-widgets/base",
            "_view_module_version": "1.2.0",
            "_view_name": "LayoutView",
            "align_content": null,
            "align_items": null,
            "align_self": null,
            "border": null,
            "bottom": null,
            "display": null,
            "flex": null,
            "flex_flow": null,
            "grid_area": null,
            "grid_auto_columns": null,
            "grid_auto_flow": null,
            "grid_auto_rows": null,
            "grid_column": null,
            "grid_gap": null,
            "grid_row": null,
            "grid_template_areas": null,
            "grid_template_columns": null,
            "grid_template_rows": null,
            "height": null,
            "justify_content": null,
            "justify_items": null,
            "left": null,
            "margin": null,
            "max_height": null,
            "max_width": null,
            "min_height": null,
            "min_width": null,
            "object_fit": null,
            "object_position": null,
            "order": null,
            "overflow": null,
            "overflow_x": null,
            "overflow_y": null,
            "padding": null,
            "right": null,
            "top": null,
            "visibility": null,
            "width": null
          }
        },
        "3d08193891154016a1e38b7d6ec52e4a": {
          "model_module": "@jupyter-widgets/base",
          "model_name": "LayoutModel",
          "model_module_version": "1.2.0",
          "state": {
            "_model_module": "@jupyter-widgets/base",
            "_model_module_version": "1.2.0",
            "_model_name": "LayoutModel",
            "_view_count": null,
            "_view_module": "@jupyter-widgets/base",
            "_view_module_version": "1.2.0",
            "_view_name": "LayoutView",
            "align_content": null,
            "align_items": null,
            "align_self": null,
            "border": null,
            "bottom": null,
            "display": null,
            "flex": null,
            "flex_flow": null,
            "grid_area": null,
            "grid_auto_columns": null,
            "grid_auto_flow": null,
            "grid_auto_rows": null,
            "grid_column": null,
            "grid_gap": null,
            "grid_row": null,
            "grid_template_areas": null,
            "grid_template_columns": null,
            "grid_template_rows": null,
            "height": null,
            "justify_content": null,
            "justify_items": null,
            "left": null,
            "margin": null,
            "max_height": null,
            "max_width": null,
            "min_height": null,
            "min_width": null,
            "object_fit": null,
            "object_position": null,
            "order": null,
            "overflow": null,
            "overflow_x": null,
            "overflow_y": null,
            "padding": null,
            "right": null,
            "top": null,
            "visibility": null,
            "width": null
          }
        },
        "59be368f8a9442e0b4b6b682cecc6209": {
          "model_module": "@jupyter-widgets/controls",
          "model_name": "DescriptionStyleModel",
          "model_module_version": "1.5.0",
          "state": {
            "_model_module": "@jupyter-widgets/controls",
            "_model_module_version": "1.5.0",
            "_model_name": "DescriptionStyleModel",
            "_view_count": null,
            "_view_module": "@jupyter-widgets/base",
            "_view_module_version": "1.2.0",
            "_view_name": "StyleView",
            "description_width": ""
          }
        },
        "4609b90804a64ddea0d132fd22c14f99": {
          "model_module": "@jupyter-widgets/base",
          "model_name": "LayoutModel",
          "model_module_version": "1.2.0",
          "state": {
            "_model_module": "@jupyter-widgets/base",
            "_model_module_version": "1.2.0",
            "_model_name": "LayoutModel",
            "_view_count": null,
            "_view_module": "@jupyter-widgets/base",
            "_view_module_version": "1.2.0",
            "_view_name": "LayoutView",
            "align_content": null,
            "align_items": null,
            "align_self": null,
            "border": null,
            "bottom": null,
            "display": null,
            "flex": null,
            "flex_flow": null,
            "grid_area": null,
            "grid_auto_columns": null,
            "grid_auto_flow": null,
            "grid_auto_rows": null,
            "grid_column": null,
            "grid_gap": null,
            "grid_row": null,
            "grid_template_areas": null,
            "grid_template_columns": null,
            "grid_template_rows": null,
            "height": null,
            "justify_content": null,
            "justify_items": null,
            "left": null,
            "margin": null,
            "max_height": null,
            "max_width": null,
            "min_height": null,
            "min_width": null,
            "object_fit": null,
            "object_position": null,
            "order": null,
            "overflow": null,
            "overflow_x": null,
            "overflow_y": null,
            "padding": null,
            "right": null,
            "top": null,
            "visibility": null,
            "width": null
          }
        },
        "c894be40d6e14cf396b7b947447478d4": {
          "model_module": "@jupyter-widgets/controls",
          "model_name": "ProgressStyleModel",
          "model_module_version": "1.5.0",
          "state": {
            "_model_module": "@jupyter-widgets/controls",
            "_model_module_version": "1.5.0",
            "_model_name": "ProgressStyleModel",
            "_view_count": null,
            "_view_module": "@jupyter-widgets/base",
            "_view_module_version": "1.2.0",
            "_view_name": "StyleView",
            "bar_color": null,
            "description_width": ""
          }
        },
        "d862b9a999254cf6b1e08ffd26fee877": {
          "model_module": "@jupyter-widgets/base",
          "model_name": "LayoutModel",
          "model_module_version": "1.2.0",
          "state": {
            "_model_module": "@jupyter-widgets/base",
            "_model_module_version": "1.2.0",
            "_model_name": "LayoutModel",
            "_view_count": null,
            "_view_module": "@jupyter-widgets/base",
            "_view_module_version": "1.2.0",
            "_view_name": "LayoutView",
            "align_content": null,
            "align_items": null,
            "align_self": null,
            "border": null,
            "bottom": null,
            "display": null,
            "flex": null,
            "flex_flow": null,
            "grid_area": null,
            "grid_auto_columns": null,
            "grid_auto_flow": null,
            "grid_auto_rows": null,
            "grid_column": null,
            "grid_gap": null,
            "grid_row": null,
            "grid_template_areas": null,
            "grid_template_columns": null,
            "grid_template_rows": null,
            "height": null,
            "justify_content": null,
            "justify_items": null,
            "left": null,
            "margin": null,
            "max_height": null,
            "max_width": null,
            "min_height": null,
            "min_width": null,
            "object_fit": null,
            "object_position": null,
            "order": null,
            "overflow": null,
            "overflow_x": null,
            "overflow_y": null,
            "padding": null,
            "right": null,
            "top": null,
            "visibility": null,
            "width": null
          }
        },
        "772d5b2b5b184a73b3f9fba836cb8a63": {
          "model_module": "@jupyter-widgets/controls",
          "model_name": "DescriptionStyleModel",
          "model_module_version": "1.5.0",
          "state": {
            "_model_module": "@jupyter-widgets/controls",
            "_model_module_version": "1.5.0",
            "_model_name": "DescriptionStyleModel",
            "_view_count": null,
            "_view_module": "@jupyter-widgets/base",
            "_view_module_version": "1.2.0",
            "_view_name": "StyleView",
            "description_width": ""
          }
        },
        "ea2ffad371134559a64382cc4a0c4739": {
          "model_module": "@jupyter-widgets/controls",
          "model_name": "HBoxModel",
          "model_module_version": "1.5.0",
          "state": {
            "_dom_classes": [],
            "_model_module": "@jupyter-widgets/controls",
            "_model_module_version": "1.5.0",
            "_model_name": "HBoxModel",
            "_view_count": null,
            "_view_module": "@jupyter-widgets/controls",
            "_view_module_version": "1.5.0",
            "_view_name": "HBoxView",
            "box_style": "",
            "children": [
              "IPY_MODEL_d8e6fad35cb94959bfd67ae7d1273da6",
              "IPY_MODEL_c9dfd40a6b374944bb2e49241dba21d6",
              "IPY_MODEL_ffefda84522c4c059a4a82d6950623ae"
            ],
            "layout": "IPY_MODEL_21e75ccf51f344e5ac146b033cfb82c1"
          }
        },
        "d8e6fad35cb94959bfd67ae7d1273da6": {
          "model_module": "@jupyter-widgets/controls",
          "model_name": "HTMLModel",
          "model_module_version": "1.5.0",
          "state": {
            "_dom_classes": [],
            "_model_module": "@jupyter-widgets/controls",
            "_model_module_version": "1.5.0",
            "_model_name": "HTMLModel",
            "_view_count": null,
            "_view_module": "@jupyter-widgets/controls",
            "_view_module_version": "1.5.0",
            "_view_name": "HTMLView",
            "description": "",
            "description_tooltip": null,
            "layout": "IPY_MODEL_275306935fd94c3d97fb79c6f24919da",
            "placeholder": "​",
            "style": "IPY_MODEL_d0a23901841f45968cad84850df40839",
            "value": "100%"
          }
        },
        "c9dfd40a6b374944bb2e49241dba21d6": {
          "model_module": "@jupyter-widgets/controls",
          "model_name": "FloatProgressModel",
          "model_module_version": "1.5.0",
          "state": {
            "_dom_classes": [],
            "_model_module": "@jupyter-widgets/controls",
            "_model_module_version": "1.5.0",
            "_model_name": "FloatProgressModel",
            "_view_count": null,
            "_view_module": "@jupyter-widgets/controls",
            "_view_module_version": "1.5.0",
            "_view_name": "ProgressView",
            "bar_style": "success",
            "description": "",
            "description_tooltip": null,
            "layout": "IPY_MODEL_0be62b57036d4c68bd2532f4fa41ed1f",
            "max": 28881,
            "min": 0,
            "orientation": "horizontal",
            "style": "IPY_MODEL_a48157bd4f414ca9be338bac54baad79",
            "value": 28881
          }
        },
        "ffefda84522c4c059a4a82d6950623ae": {
          "model_module": "@jupyter-widgets/controls",
          "model_name": "HTMLModel",
          "model_module_version": "1.5.0",
          "state": {
            "_dom_classes": [],
            "_model_module": "@jupyter-widgets/controls",
            "_model_module_version": "1.5.0",
            "_model_name": "HTMLModel",
            "_view_count": null,
            "_view_module": "@jupyter-widgets/controls",
            "_view_module_version": "1.5.0",
            "_view_name": "HTMLView",
            "description": "",
            "description_tooltip": null,
            "layout": "IPY_MODEL_3d24038962d4482d8e03d303589ac412",
            "placeholder": "​",
            "style": "IPY_MODEL_8a1f834567794f48963c2fc968d607c1",
            "value": " 28881/28881 [00:00&lt;00:00, 1120827.69it/s]"
          }
        },
        "21e75ccf51f344e5ac146b033cfb82c1": {
          "model_module": "@jupyter-widgets/base",
          "model_name": "LayoutModel",
          "model_module_version": "1.2.0",
          "state": {
            "_model_module": "@jupyter-widgets/base",
            "_model_module_version": "1.2.0",
            "_model_name": "LayoutModel",
            "_view_count": null,
            "_view_module": "@jupyter-widgets/base",
            "_view_module_version": "1.2.0",
            "_view_name": "LayoutView",
            "align_content": null,
            "align_items": null,
            "align_self": null,
            "border": null,
            "bottom": null,
            "display": null,
            "flex": null,
            "flex_flow": null,
            "grid_area": null,
            "grid_auto_columns": null,
            "grid_auto_flow": null,
            "grid_auto_rows": null,
            "grid_column": null,
            "grid_gap": null,
            "grid_row": null,
            "grid_template_areas": null,
            "grid_template_columns": null,
            "grid_template_rows": null,
            "height": null,
            "justify_content": null,
            "justify_items": null,
            "left": null,
            "margin": null,
            "max_height": null,
            "max_width": null,
            "min_height": null,
            "min_width": null,
            "object_fit": null,
            "object_position": null,
            "order": null,
            "overflow": null,
            "overflow_x": null,
            "overflow_y": null,
            "padding": null,
            "right": null,
            "top": null,
            "visibility": null,
            "width": null
          }
        },
        "275306935fd94c3d97fb79c6f24919da": {
          "model_module": "@jupyter-widgets/base",
          "model_name": "LayoutModel",
          "model_module_version": "1.2.0",
          "state": {
            "_model_module": "@jupyter-widgets/base",
            "_model_module_version": "1.2.0",
            "_model_name": "LayoutModel",
            "_view_count": null,
            "_view_module": "@jupyter-widgets/base",
            "_view_module_version": "1.2.0",
            "_view_name": "LayoutView",
            "align_content": null,
            "align_items": null,
            "align_self": null,
            "border": null,
            "bottom": null,
            "display": null,
            "flex": null,
            "flex_flow": null,
            "grid_area": null,
            "grid_auto_columns": null,
            "grid_auto_flow": null,
            "grid_auto_rows": null,
            "grid_column": null,
            "grid_gap": null,
            "grid_row": null,
            "grid_template_areas": null,
            "grid_template_columns": null,
            "grid_template_rows": null,
            "height": null,
            "justify_content": null,
            "justify_items": null,
            "left": null,
            "margin": null,
            "max_height": null,
            "max_width": null,
            "min_height": null,
            "min_width": null,
            "object_fit": null,
            "object_position": null,
            "order": null,
            "overflow": null,
            "overflow_x": null,
            "overflow_y": null,
            "padding": null,
            "right": null,
            "top": null,
            "visibility": null,
            "width": null
          }
        },
        "d0a23901841f45968cad84850df40839": {
          "model_module": "@jupyter-widgets/controls",
          "model_name": "DescriptionStyleModel",
          "model_module_version": "1.5.0",
          "state": {
            "_model_module": "@jupyter-widgets/controls",
            "_model_module_version": "1.5.0",
            "_model_name": "DescriptionStyleModel",
            "_view_count": null,
            "_view_module": "@jupyter-widgets/base",
            "_view_module_version": "1.2.0",
            "_view_name": "StyleView",
            "description_width": ""
          }
        },
        "0be62b57036d4c68bd2532f4fa41ed1f": {
          "model_module": "@jupyter-widgets/base",
          "model_name": "LayoutModel",
          "model_module_version": "1.2.0",
          "state": {
            "_model_module": "@jupyter-widgets/base",
            "_model_module_version": "1.2.0",
            "_model_name": "LayoutModel",
            "_view_count": null,
            "_view_module": "@jupyter-widgets/base",
            "_view_module_version": "1.2.0",
            "_view_name": "LayoutView",
            "align_content": null,
            "align_items": null,
            "align_self": null,
            "border": null,
            "bottom": null,
            "display": null,
            "flex": null,
            "flex_flow": null,
            "grid_area": null,
            "grid_auto_columns": null,
            "grid_auto_flow": null,
            "grid_auto_rows": null,
            "grid_column": null,
            "grid_gap": null,
            "grid_row": null,
            "grid_template_areas": null,
            "grid_template_columns": null,
            "grid_template_rows": null,
            "height": null,
            "justify_content": null,
            "justify_items": null,
            "left": null,
            "margin": null,
            "max_height": null,
            "max_width": null,
            "min_height": null,
            "min_width": null,
            "object_fit": null,
            "object_position": null,
            "order": null,
            "overflow": null,
            "overflow_x": null,
            "overflow_y": null,
            "padding": null,
            "right": null,
            "top": null,
            "visibility": null,
            "width": null
          }
        },
        "a48157bd4f414ca9be338bac54baad79": {
          "model_module": "@jupyter-widgets/controls",
          "model_name": "ProgressStyleModel",
          "model_module_version": "1.5.0",
          "state": {
            "_model_module": "@jupyter-widgets/controls",
            "_model_module_version": "1.5.0",
            "_model_name": "ProgressStyleModel",
            "_view_count": null,
            "_view_module": "@jupyter-widgets/base",
            "_view_module_version": "1.2.0",
            "_view_name": "StyleView",
            "bar_color": null,
            "description_width": ""
          }
        },
        "3d24038962d4482d8e03d303589ac412": {
          "model_module": "@jupyter-widgets/base",
          "model_name": "LayoutModel",
          "model_module_version": "1.2.0",
          "state": {
            "_model_module": "@jupyter-widgets/base",
            "_model_module_version": "1.2.0",
            "_model_name": "LayoutModel",
            "_view_count": null,
            "_view_module": "@jupyter-widgets/base",
            "_view_module_version": "1.2.0",
            "_view_name": "LayoutView",
            "align_content": null,
            "align_items": null,
            "align_self": null,
            "border": null,
            "bottom": null,
            "display": null,
            "flex": null,
            "flex_flow": null,
            "grid_area": null,
            "grid_auto_columns": null,
            "grid_auto_flow": null,
            "grid_auto_rows": null,
            "grid_column": null,
            "grid_gap": null,
            "grid_row": null,
            "grid_template_areas": null,
            "grid_template_columns": null,
            "grid_template_rows": null,
            "height": null,
            "justify_content": null,
            "justify_items": null,
            "left": null,
            "margin": null,
            "max_height": null,
            "max_width": null,
            "min_height": null,
            "min_width": null,
            "object_fit": null,
            "object_position": null,
            "order": null,
            "overflow": null,
            "overflow_x": null,
            "overflow_y": null,
            "padding": null,
            "right": null,
            "top": null,
            "visibility": null,
            "width": null
          }
        },
        "8a1f834567794f48963c2fc968d607c1": {
          "model_module": "@jupyter-widgets/controls",
          "model_name": "DescriptionStyleModel",
          "model_module_version": "1.5.0",
          "state": {
            "_model_module": "@jupyter-widgets/controls",
            "_model_module_version": "1.5.0",
            "_model_name": "DescriptionStyleModel",
            "_view_count": null,
            "_view_module": "@jupyter-widgets/base",
            "_view_module_version": "1.2.0",
            "_view_name": "StyleView",
            "description_width": ""
          }
        },
        "d568ceac23c943098af69e47fa609884": {
          "model_module": "@jupyter-widgets/controls",
          "model_name": "HBoxModel",
          "model_module_version": "1.5.0",
          "state": {
            "_dom_classes": [],
            "_model_module": "@jupyter-widgets/controls",
            "_model_module_version": "1.5.0",
            "_model_name": "HBoxModel",
            "_view_count": null,
            "_view_module": "@jupyter-widgets/controls",
            "_view_module_version": "1.5.0",
            "_view_name": "HBoxView",
            "box_style": "",
            "children": [
              "IPY_MODEL_cfe75e8d4ae44a83a877f04a24903c62",
              "IPY_MODEL_7a3c996a76044e15b56f501b792a119f",
              "IPY_MODEL_993483e36451460fb9cd9b5b239eac14"
            ],
            "layout": "IPY_MODEL_9f3b30df94dd49b289b92f30c781ef05"
          }
        },
        "cfe75e8d4ae44a83a877f04a24903c62": {
          "model_module": "@jupyter-widgets/controls",
          "model_name": "HTMLModel",
          "model_module_version": "1.5.0",
          "state": {
            "_dom_classes": [],
            "_model_module": "@jupyter-widgets/controls",
            "_model_module_version": "1.5.0",
            "_model_name": "HTMLModel",
            "_view_count": null,
            "_view_module": "@jupyter-widgets/controls",
            "_view_module_version": "1.5.0",
            "_view_name": "HTMLView",
            "description": "",
            "description_tooltip": null,
            "layout": "IPY_MODEL_be87c525931a491aa47a527708f07d1f",
            "placeholder": "​",
            "style": "IPY_MODEL_8a592d56bd2943919cddfea14faa19db",
            "value": "100%"
          }
        },
        "7a3c996a76044e15b56f501b792a119f": {
          "model_module": "@jupyter-widgets/controls",
          "model_name": "FloatProgressModel",
          "model_module_version": "1.5.0",
          "state": {
            "_dom_classes": [],
            "_model_module": "@jupyter-widgets/controls",
            "_model_module_version": "1.5.0",
            "_model_name": "FloatProgressModel",
            "_view_count": null,
            "_view_module": "@jupyter-widgets/controls",
            "_view_module_version": "1.5.0",
            "_view_name": "ProgressView",
            "bar_style": "success",
            "description": "",
            "description_tooltip": null,
            "layout": "IPY_MODEL_d9ab086fa0d9416e8defbdbcfc2fad5b",
            "max": 1648877,
            "min": 0,
            "orientation": "horizontal",
            "style": "IPY_MODEL_bfbd9bedb98c4c2c92913e6e7ab50a00",
            "value": 1648877
          }
        },
        "993483e36451460fb9cd9b5b239eac14": {
          "model_module": "@jupyter-widgets/controls",
          "model_name": "HTMLModel",
          "model_module_version": "1.5.0",
          "state": {
            "_dom_classes": [],
            "_model_module": "@jupyter-widgets/controls",
            "_model_module_version": "1.5.0",
            "_model_name": "HTMLModel",
            "_view_count": null,
            "_view_module": "@jupyter-widgets/controls",
            "_view_module_version": "1.5.0",
            "_view_name": "HTMLView",
            "description": "",
            "description_tooltip": null,
            "layout": "IPY_MODEL_d860b3a6c8f0463e997879f627e3ed34",
            "placeholder": "​",
            "style": "IPY_MODEL_f3482c3b34c94f41a92fb2341164e53c",
            "value": " 1648877/1648877 [00:00&lt;00:00, 18727636.42it/s]"
          }
        },
        "9f3b30df94dd49b289b92f30c781ef05": {
          "model_module": "@jupyter-widgets/base",
          "model_name": "LayoutModel",
          "model_module_version": "1.2.0",
          "state": {
            "_model_module": "@jupyter-widgets/base",
            "_model_module_version": "1.2.0",
            "_model_name": "LayoutModel",
            "_view_count": null,
            "_view_module": "@jupyter-widgets/base",
            "_view_module_version": "1.2.0",
            "_view_name": "LayoutView",
            "align_content": null,
            "align_items": null,
            "align_self": null,
            "border": null,
            "bottom": null,
            "display": null,
            "flex": null,
            "flex_flow": null,
            "grid_area": null,
            "grid_auto_columns": null,
            "grid_auto_flow": null,
            "grid_auto_rows": null,
            "grid_column": null,
            "grid_gap": null,
            "grid_row": null,
            "grid_template_areas": null,
            "grid_template_columns": null,
            "grid_template_rows": null,
            "height": null,
            "justify_content": null,
            "justify_items": null,
            "left": null,
            "margin": null,
            "max_height": null,
            "max_width": null,
            "min_height": null,
            "min_width": null,
            "object_fit": null,
            "object_position": null,
            "order": null,
            "overflow": null,
            "overflow_x": null,
            "overflow_y": null,
            "padding": null,
            "right": null,
            "top": null,
            "visibility": null,
            "width": null
          }
        },
        "be87c525931a491aa47a527708f07d1f": {
          "model_module": "@jupyter-widgets/base",
          "model_name": "LayoutModel",
          "model_module_version": "1.2.0",
          "state": {
            "_model_module": "@jupyter-widgets/base",
            "_model_module_version": "1.2.0",
            "_model_name": "LayoutModel",
            "_view_count": null,
            "_view_module": "@jupyter-widgets/base",
            "_view_module_version": "1.2.0",
            "_view_name": "LayoutView",
            "align_content": null,
            "align_items": null,
            "align_self": null,
            "border": null,
            "bottom": null,
            "display": null,
            "flex": null,
            "flex_flow": null,
            "grid_area": null,
            "grid_auto_columns": null,
            "grid_auto_flow": null,
            "grid_auto_rows": null,
            "grid_column": null,
            "grid_gap": null,
            "grid_row": null,
            "grid_template_areas": null,
            "grid_template_columns": null,
            "grid_template_rows": null,
            "height": null,
            "justify_content": null,
            "justify_items": null,
            "left": null,
            "margin": null,
            "max_height": null,
            "max_width": null,
            "min_height": null,
            "min_width": null,
            "object_fit": null,
            "object_position": null,
            "order": null,
            "overflow": null,
            "overflow_x": null,
            "overflow_y": null,
            "padding": null,
            "right": null,
            "top": null,
            "visibility": null,
            "width": null
          }
        },
        "8a592d56bd2943919cddfea14faa19db": {
          "model_module": "@jupyter-widgets/controls",
          "model_name": "DescriptionStyleModel",
          "model_module_version": "1.5.0",
          "state": {
            "_model_module": "@jupyter-widgets/controls",
            "_model_module_version": "1.5.0",
            "_model_name": "DescriptionStyleModel",
            "_view_count": null,
            "_view_module": "@jupyter-widgets/base",
            "_view_module_version": "1.2.0",
            "_view_name": "StyleView",
            "description_width": ""
          }
        },
        "d9ab086fa0d9416e8defbdbcfc2fad5b": {
          "model_module": "@jupyter-widgets/base",
          "model_name": "LayoutModel",
          "model_module_version": "1.2.0",
          "state": {
            "_model_module": "@jupyter-widgets/base",
            "_model_module_version": "1.2.0",
            "_model_name": "LayoutModel",
            "_view_count": null,
            "_view_module": "@jupyter-widgets/base",
            "_view_module_version": "1.2.0",
            "_view_name": "LayoutView",
            "align_content": null,
            "align_items": null,
            "align_self": null,
            "border": null,
            "bottom": null,
            "display": null,
            "flex": null,
            "flex_flow": null,
            "grid_area": null,
            "grid_auto_columns": null,
            "grid_auto_flow": null,
            "grid_auto_rows": null,
            "grid_column": null,
            "grid_gap": null,
            "grid_row": null,
            "grid_template_areas": null,
            "grid_template_columns": null,
            "grid_template_rows": null,
            "height": null,
            "justify_content": null,
            "justify_items": null,
            "left": null,
            "margin": null,
            "max_height": null,
            "max_width": null,
            "min_height": null,
            "min_width": null,
            "object_fit": null,
            "object_position": null,
            "order": null,
            "overflow": null,
            "overflow_x": null,
            "overflow_y": null,
            "padding": null,
            "right": null,
            "top": null,
            "visibility": null,
            "width": null
          }
        },
        "bfbd9bedb98c4c2c92913e6e7ab50a00": {
          "model_module": "@jupyter-widgets/controls",
          "model_name": "ProgressStyleModel",
          "model_module_version": "1.5.0",
          "state": {
            "_model_module": "@jupyter-widgets/controls",
            "_model_module_version": "1.5.0",
            "_model_name": "ProgressStyleModel",
            "_view_count": null,
            "_view_module": "@jupyter-widgets/base",
            "_view_module_version": "1.2.0",
            "_view_name": "StyleView",
            "bar_color": null,
            "description_width": ""
          }
        },
        "d860b3a6c8f0463e997879f627e3ed34": {
          "model_module": "@jupyter-widgets/base",
          "model_name": "LayoutModel",
          "model_module_version": "1.2.0",
          "state": {
            "_model_module": "@jupyter-widgets/base",
            "_model_module_version": "1.2.0",
            "_model_name": "LayoutModel",
            "_view_count": null,
            "_view_module": "@jupyter-widgets/base",
            "_view_module_version": "1.2.0",
            "_view_name": "LayoutView",
            "align_content": null,
            "align_items": null,
            "align_self": null,
            "border": null,
            "bottom": null,
            "display": null,
            "flex": null,
            "flex_flow": null,
            "grid_area": null,
            "grid_auto_columns": null,
            "grid_auto_flow": null,
            "grid_auto_rows": null,
            "grid_column": null,
            "grid_gap": null,
            "grid_row": null,
            "grid_template_areas": null,
            "grid_template_columns": null,
            "grid_template_rows": null,
            "height": null,
            "justify_content": null,
            "justify_items": null,
            "left": null,
            "margin": null,
            "max_height": null,
            "max_width": null,
            "min_height": null,
            "min_width": null,
            "object_fit": null,
            "object_position": null,
            "order": null,
            "overflow": null,
            "overflow_x": null,
            "overflow_y": null,
            "padding": null,
            "right": null,
            "top": null,
            "visibility": null,
            "width": null
          }
        },
        "f3482c3b34c94f41a92fb2341164e53c": {
          "model_module": "@jupyter-widgets/controls",
          "model_name": "DescriptionStyleModel",
          "model_module_version": "1.5.0",
          "state": {
            "_model_module": "@jupyter-widgets/controls",
            "_model_module_version": "1.5.0",
            "_model_name": "DescriptionStyleModel",
            "_view_count": null,
            "_view_module": "@jupyter-widgets/base",
            "_view_module_version": "1.2.0",
            "_view_name": "StyleView",
            "description_width": ""
          }
        },
        "77b09116bffd4bfa96c2529c5b92fe87": {
          "model_module": "@jupyter-widgets/controls",
          "model_name": "HBoxModel",
          "model_module_version": "1.5.0",
          "state": {
            "_dom_classes": [],
            "_model_module": "@jupyter-widgets/controls",
            "_model_module_version": "1.5.0",
            "_model_name": "HBoxModel",
            "_view_count": null,
            "_view_module": "@jupyter-widgets/controls",
            "_view_module_version": "1.5.0",
            "_view_name": "HBoxView",
            "box_style": "",
            "children": [
              "IPY_MODEL_8d24186383e0442889e061e0862811e6",
              "IPY_MODEL_a7b7eed0287842c79751376fb5f7f329",
              "IPY_MODEL_7e875012455c40259d12541b5076f694"
            ],
            "layout": "IPY_MODEL_1bbd22e36b80419c81f11d8871076d4c"
          }
        },
        "8d24186383e0442889e061e0862811e6": {
          "model_module": "@jupyter-widgets/controls",
          "model_name": "HTMLModel",
          "model_module_version": "1.5.0",
          "state": {
            "_dom_classes": [],
            "_model_module": "@jupyter-widgets/controls",
            "_model_module_version": "1.5.0",
            "_model_name": "HTMLModel",
            "_view_count": null,
            "_view_module": "@jupyter-widgets/controls",
            "_view_module_version": "1.5.0",
            "_view_name": "HTMLView",
            "description": "",
            "description_tooltip": null,
            "layout": "IPY_MODEL_37421431e95345939c2e7c2fa3421a78",
            "placeholder": "​",
            "style": "IPY_MODEL_4b3a682558a24c6bab734e5f5f6316a9",
            "value": "100%"
          }
        },
        "a7b7eed0287842c79751376fb5f7f329": {
          "model_module": "@jupyter-widgets/controls",
          "model_name": "FloatProgressModel",
          "model_module_version": "1.5.0",
          "state": {
            "_dom_classes": [],
            "_model_module": "@jupyter-widgets/controls",
            "_model_module_version": "1.5.0",
            "_model_name": "FloatProgressModel",
            "_view_count": null,
            "_view_module": "@jupyter-widgets/controls",
            "_view_module_version": "1.5.0",
            "_view_name": "ProgressView",
            "bar_style": "success",
            "description": "",
            "description_tooltip": null,
            "layout": "IPY_MODEL_c783d978627f407fb8f26abe7b93dde7",
            "max": 4542,
            "min": 0,
            "orientation": "horizontal",
            "style": "IPY_MODEL_f78601376f77470e8db4ecd8aa1720cc",
            "value": 4542
          }
        },
        "7e875012455c40259d12541b5076f694": {
          "model_module": "@jupyter-widgets/controls",
          "model_name": "HTMLModel",
          "model_module_version": "1.5.0",
          "state": {
            "_dom_classes": [],
            "_model_module": "@jupyter-widgets/controls",
            "_model_module_version": "1.5.0",
            "_model_name": "HTMLModel",
            "_view_count": null,
            "_view_module": "@jupyter-widgets/controls",
            "_view_module_version": "1.5.0",
            "_view_name": "HTMLView",
            "description": "",
            "description_tooltip": null,
            "layout": "IPY_MODEL_efe6245413bb4afca1cd3b7c7db692fe",
            "placeholder": "​",
            "style": "IPY_MODEL_80ceede33286461fa4357f3be5b88aa6",
            "value": " 4542/4542 [00:00&lt;00:00, 187265.59it/s]"
          }
        },
        "1bbd22e36b80419c81f11d8871076d4c": {
          "model_module": "@jupyter-widgets/base",
          "model_name": "LayoutModel",
          "model_module_version": "1.2.0",
          "state": {
            "_model_module": "@jupyter-widgets/base",
            "_model_module_version": "1.2.0",
            "_model_name": "LayoutModel",
            "_view_count": null,
            "_view_module": "@jupyter-widgets/base",
            "_view_module_version": "1.2.0",
            "_view_name": "LayoutView",
            "align_content": null,
            "align_items": null,
            "align_self": null,
            "border": null,
            "bottom": null,
            "display": null,
            "flex": null,
            "flex_flow": null,
            "grid_area": null,
            "grid_auto_columns": null,
            "grid_auto_flow": null,
            "grid_auto_rows": null,
            "grid_column": null,
            "grid_gap": null,
            "grid_row": null,
            "grid_template_areas": null,
            "grid_template_columns": null,
            "grid_template_rows": null,
            "height": null,
            "justify_content": null,
            "justify_items": null,
            "left": null,
            "margin": null,
            "max_height": null,
            "max_width": null,
            "min_height": null,
            "min_width": null,
            "object_fit": null,
            "object_position": null,
            "order": null,
            "overflow": null,
            "overflow_x": null,
            "overflow_y": null,
            "padding": null,
            "right": null,
            "top": null,
            "visibility": null,
            "width": null
          }
        },
        "37421431e95345939c2e7c2fa3421a78": {
          "model_module": "@jupyter-widgets/base",
          "model_name": "LayoutModel",
          "model_module_version": "1.2.0",
          "state": {
            "_model_module": "@jupyter-widgets/base",
            "_model_module_version": "1.2.0",
            "_model_name": "LayoutModel",
            "_view_count": null,
            "_view_module": "@jupyter-widgets/base",
            "_view_module_version": "1.2.0",
            "_view_name": "LayoutView",
            "align_content": null,
            "align_items": null,
            "align_self": null,
            "border": null,
            "bottom": null,
            "display": null,
            "flex": null,
            "flex_flow": null,
            "grid_area": null,
            "grid_auto_columns": null,
            "grid_auto_flow": null,
            "grid_auto_rows": null,
            "grid_column": null,
            "grid_gap": null,
            "grid_row": null,
            "grid_template_areas": null,
            "grid_template_columns": null,
            "grid_template_rows": null,
            "height": null,
            "justify_content": null,
            "justify_items": null,
            "left": null,
            "margin": null,
            "max_height": null,
            "max_width": null,
            "min_height": null,
            "min_width": null,
            "object_fit": null,
            "object_position": null,
            "order": null,
            "overflow": null,
            "overflow_x": null,
            "overflow_y": null,
            "padding": null,
            "right": null,
            "top": null,
            "visibility": null,
            "width": null
          }
        },
        "4b3a682558a24c6bab734e5f5f6316a9": {
          "model_module": "@jupyter-widgets/controls",
          "model_name": "DescriptionStyleModel",
          "model_module_version": "1.5.0",
          "state": {
            "_model_module": "@jupyter-widgets/controls",
            "_model_module_version": "1.5.0",
            "_model_name": "DescriptionStyleModel",
            "_view_count": null,
            "_view_module": "@jupyter-widgets/base",
            "_view_module_version": "1.2.0",
            "_view_name": "StyleView",
            "description_width": ""
          }
        },
        "c783d978627f407fb8f26abe7b93dde7": {
          "model_module": "@jupyter-widgets/base",
          "model_name": "LayoutModel",
          "model_module_version": "1.2.0",
          "state": {
            "_model_module": "@jupyter-widgets/base",
            "_model_module_version": "1.2.0",
            "_model_name": "LayoutModel",
            "_view_count": null,
            "_view_module": "@jupyter-widgets/base",
            "_view_module_version": "1.2.0",
            "_view_name": "LayoutView",
            "align_content": null,
            "align_items": null,
            "align_self": null,
            "border": null,
            "bottom": null,
            "display": null,
            "flex": null,
            "flex_flow": null,
            "grid_area": null,
            "grid_auto_columns": null,
            "grid_auto_flow": null,
            "grid_auto_rows": null,
            "grid_column": null,
            "grid_gap": null,
            "grid_row": null,
            "grid_template_areas": null,
            "grid_template_columns": null,
            "grid_template_rows": null,
            "height": null,
            "justify_content": null,
            "justify_items": null,
            "left": null,
            "margin": null,
            "max_height": null,
            "max_width": null,
            "min_height": null,
            "min_width": null,
            "object_fit": null,
            "object_position": null,
            "order": null,
            "overflow": null,
            "overflow_x": null,
            "overflow_y": null,
            "padding": null,
            "right": null,
            "top": null,
            "visibility": null,
            "width": null
          }
        },
        "f78601376f77470e8db4ecd8aa1720cc": {
          "model_module": "@jupyter-widgets/controls",
          "model_name": "ProgressStyleModel",
          "model_module_version": "1.5.0",
          "state": {
            "_model_module": "@jupyter-widgets/controls",
            "_model_module_version": "1.5.0",
            "_model_name": "ProgressStyleModel",
            "_view_count": null,
            "_view_module": "@jupyter-widgets/base",
            "_view_module_version": "1.2.0",
            "_view_name": "StyleView",
            "bar_color": null,
            "description_width": ""
          }
        },
        "efe6245413bb4afca1cd3b7c7db692fe": {
          "model_module": "@jupyter-widgets/base",
          "model_name": "LayoutModel",
          "model_module_version": "1.2.0",
          "state": {
            "_model_module": "@jupyter-widgets/base",
            "_model_module_version": "1.2.0",
            "_model_name": "LayoutModel",
            "_view_count": null,
            "_view_module": "@jupyter-widgets/base",
            "_view_module_version": "1.2.0",
            "_view_name": "LayoutView",
            "align_content": null,
            "align_items": null,
            "align_self": null,
            "border": null,
            "bottom": null,
            "display": null,
            "flex": null,
            "flex_flow": null,
            "grid_area": null,
            "grid_auto_columns": null,
            "grid_auto_flow": null,
            "grid_auto_rows": null,
            "grid_column": null,
            "grid_gap": null,
            "grid_row": null,
            "grid_template_areas": null,
            "grid_template_columns": null,
            "grid_template_rows": null,
            "height": null,
            "justify_content": null,
            "justify_items": null,
            "left": null,
            "margin": null,
            "max_height": null,
            "max_width": null,
            "min_height": null,
            "min_width": null,
            "object_fit": null,
            "object_position": null,
            "order": null,
            "overflow": null,
            "overflow_x": null,
            "overflow_y": null,
            "padding": null,
            "right": null,
            "top": null,
            "visibility": null,
            "width": null
          }
        },
        "80ceede33286461fa4357f3be5b88aa6": {
          "model_module": "@jupyter-widgets/controls",
          "model_name": "DescriptionStyleModel",
          "model_module_version": "1.5.0",
          "state": {
            "_model_module": "@jupyter-widgets/controls",
            "_model_module_version": "1.5.0",
            "_model_name": "DescriptionStyleModel",
            "_view_count": null,
            "_view_module": "@jupyter-widgets/base",
            "_view_module_version": "1.2.0",
            "_view_name": "StyleView",
            "description_width": ""
          }
        }
      }
    }
  },
  "nbformat": 4,
  "nbformat_minor": 0
}